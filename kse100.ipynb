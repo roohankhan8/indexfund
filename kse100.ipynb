{
 "cells": [
  {
   "cell_type": "code",
   "execution_count": 37,
   "metadata": {},
   "outputs": [],
   "source": [
    "from selenium import webdriver\n",
    "from selenium.webdriver.common.by import By\n",
    "import time\n",
    "import os\n",
    "import pandas as pd\n",
    "from datetime import datetime"
   ]
  },
  {
   "cell_type": "code",
   "execution_count": 38,
   "metadata": {},
   "outputs": [],
   "source": [
    "# Initialize the WebDriver (Here, we use Chrome)\n",
    "driver = webdriver.Chrome()  # Make sure ChromeDriver is in your PATH or specify its path here\n",
    "\n",
    "# Open the desired webpage\n",
    "driver.get(\"https://dps.psx.com.pk/indices\")  # Replace with the URL of the webpage"
   ]
  },
  {
   "cell_type": "code",
   "execution_count": 39,
   "metadata": {},
   "outputs": [],
   "source": [
    "def get_data():\n",
    "    page=1\n",
    "    while page < 5:\n",
    "        # Perform scraping and save data\n",
    "        \n",
    "        # Locate the table element by its class name or other identifying attributes\n",
    "        table = driver.find_element(By.CSS_SELECTOR, \"table.dataTable\")\n",
    "        # Initialize lists to store table data\n",
    "        data = []\n",
    "        # Find all rows in the table body\n",
    "        rows = table.find_elements(By.TAG_NAME, \"tr\")\n",
    "        # Loop through each row to extract cell data\n",
    "        for row in rows[1:]:  # Skip the header row if necessary\n",
    "            # Find all cells in the row\n",
    "            cells = row.find_elements(By.TAG_NAME, \"td\")\n",
    "            # Extract text from each cell and add to a temporary list\n",
    "            row_data = [cell.text for cell in cells]\n",
    "            # Append the row data to the main data list\n",
    "            data.append(row_data)\n",
    "        # Create a DataFrame from the data\n",
    "        columns = [\"Symbol\", \"Name\", \"LDCP\", \"Current\", \"Change\", \"Change (%)\", \"IDX WTG (%)\", \"IDX Point\", \"Volume\", \"Freefloat (M)\", \"Market Cap (M)\"]  # Adjust as needed\n",
    "        df = pd.DataFrame(data, columns=columns)\n",
    "        \n",
    "        # Add a date column to indicate the day’s data\n",
    "        df[\"Date\"] = datetime.now().strftime(\"%Y-%m-%d\")\n",
    "        # Specify the CSV file name\n",
    "        csv_file = \"daily_kse100_data.csv\"\n",
    "        # Check if the file exists. If it does, append without headers. If not, create with headers.\n",
    "        if os.path.exists(csv_file):\n",
    "            df.to_csv(csv_file, mode=\"a\", index=False, header=False)\n",
    "        else:\n",
    "            df.to_csv(csv_file, mode=\"w\", index=False, header=True)\n",
    "        # Print or save the DataFrame\n",
    "        # print(df)\n",
    "        print(f\"Data saved to {csv_file}\")\n",
    "        \n",
    "        # Navigate to the next page\n",
    "        # Option 1: Find by link text\n",
    "        link_text = \"Next\"  # Replace with the text inside the <a> tag\n",
    "        link = driver.find_element(By.LINK_TEXT, link_text)\n",
    "        link.click()\n",
    "        time.sleep(5)\n",
    "        page += 1\n",
    "    driver.quit()"
   ]
  },
  {
   "cell_type": "code",
   "execution_count": 40,
   "metadata": {},
   "outputs": [
    {
     "name": "stdout",
     "output_type": "stream",
     "text": [
      "Data saved to daily_kse100_data.csv\n",
      "Data saved to daily_kse100_data.csv\n",
      "Data saved to daily_kse100_data.csv\n",
      "Data saved to daily_kse100_data.csv\n"
     ]
    }
   ],
   "source": [
    "get_data()"
   ]
  },
  {
   "cell_type": "markdown",
   "metadata": {},
   "source": [
    "https://1drv.ms/x/c/a492b86365c32764/ERKArLJ49ZpLlskXchLo78MB_kS6jXyeaKACnkiwIIvVmw?e=wAf5Ed"
   ]
  },
  {
   "cell_type": "markdown",
   "metadata": {},
   "source": []
  }
 ],
 "metadata": {
  "kernelspec": {
   "display_name": "env",
   "language": "python",
   "name": "python3"
  },
  "language_info": {
   "codemirror_mode": {
    "name": "ipython",
    "version": 3
   },
   "file_extension": ".py",
   "mimetype": "text/x-python",
   "name": "python",
   "nbconvert_exporter": "python",
   "pygments_lexer": "ipython3",
   "version": "3.12.0"
  }
 },
 "nbformat": 4,
 "nbformat_minor": 2
}
