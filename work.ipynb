{
 "cells": [
  {
   "cell_type": "code",
   "execution_count": 1,
   "metadata": {},
   "outputs": [
    {
     "ename": "ModuleNotFoundError",
     "evalue": "No module named 'pandas'",
     "output_type": "error",
     "traceback": [
      "\u001b[31m---------------------------------------------------------------------------\u001b[39m",
      "\u001b[31mModuleNotFoundError\u001b[39m                       Traceback (most recent call last)",
      "\u001b[36mCell\u001b[39m\u001b[36m \u001b[39m\u001b[32mIn[1]\u001b[39m\u001b[32m, line 1\u001b[39m\n\u001b[32m----> \u001b[39m\u001b[32m1\u001b[39m \u001b[38;5;28;01mimport\u001b[39;00m\u001b[38;5;250m \u001b[39m\u001b[34;01mpandas\u001b[39;00m\u001b[38;5;250m \u001b[39m\u001b[38;5;28;01mas\u001b[39;00m\u001b[38;5;250m \u001b[39m\u001b[34;01mpd\u001b[39;00m\n\u001b[32m      3\u001b[39m \u001b[38;5;66;03m# Load the workbook with daily data\u001b[39;00m\n\u001b[32m      4\u001b[39m input_file = \u001b[33m'\u001b[39m\u001b[33m100companies5yearsSeperate.xlsx\u001b[39m\u001b[33m'\u001b[39m  \u001b[38;5;66;03m# Replace with your file path\u001b[39;00m\n",
      "\u001b[31mModuleNotFoundError\u001b[39m: No module named 'pandas'"
     ]
    }
   ],
   "source": [
    "import pandas as pd\n",
    "\n",
    "# Load the workbook with daily data\n",
    "input_file = '100companies5yearsSeperate.xlsx'  # Replace with your file path\n",
    "output_file = 'merged_monthly_data.xlsx'  # Output file name\n",
    "\n",
    "# Load all sheets\n",
    "xls = pd.ExcelFile(input_file)\n",
    "\n",
    "# Initialize an empty dictionary to store monthly data\n",
    "monthly_data = {}\n",
    "\n",
    "for sheet_name in xls.sheet_names:\n",
    "    # Load each sheet\n",
    "    df = pd.read_excel(input_file, sheet_name=sheet_name)\n",
    "\n",
    "    # Use sheet name as date column\n",
    "    df['Date'] = pd.to_datetime(sheet_name)\n",
    "\n",
    "    # Resample weekly data (Monday start)\n",
    "    weekly_df = df.set_index('Date').resample('W-MON').last().reset_index()\n",
    "\n",
    "    # Group by month and store\n",
    "    month_key = weekly_df['Date'].iloc[0].strftime('%Y-%m')\n",
    "\n",
    "    if month_key not in monthly_data:\n",
    "        monthly_data[month_key] = []\n",
    "\n",
    "    monthly_data[month_key].append(weekly_df)\n",
    "\n",
    "# Create a new workbook and save each month’s data as separate sheets\n",
    "with pd.ExcelWriter(output_file, engine='openpyxl') as writer:\n",
    "    for month, dataframes in monthly_data.items():\n",
    "        # Concatenate all weeks of the month\n",
    "        monthly_df = pd.concat(dataframes, ignore_index=True)\n",
    "        monthly_df.to_excel(writer, sheet_name=month, index=False)\n",
    "\n",
    "print(f'Merged monthly data saved to {output_file}.')"
   ]
  },
  {
   "cell_type": "code",
   "execution_count": null,
   "metadata": {},
   "outputs": [],
   "source": []
  }
 ],
 "metadata": {
  "kernelspec": {
   "display_name": ".venv (3.14.0)",
   "language": "python",
   "name": "python3"
  },
  "language_info": {
   "codemirror_mode": {
    "name": "ipython",
    "version": 3
   },
   "file_extension": ".py",
   "mimetype": "text/x-python",
   "name": "python",
   "nbconvert_exporter": "python",
   "pygments_lexer": "ipython3",
   "version": "3.14.0"
  }
 },
 "nbformat": 4,
 "nbformat_minor": 2
}
