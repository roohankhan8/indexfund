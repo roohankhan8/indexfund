{
 "cells": [
  {
   "cell_type": "code",
   "execution_count": 1,
   "metadata": {},
   "outputs": [],
   "source": [
    "from selenium import webdriver\n",
    "from selenium.webdriver.common.by import By\n",
    "import time\n",
    "import os\n",
    "import pandas as pd\n",
    "from datetime import datetime"
   ]
  },
  {
   "cell_type": "code",
   "execution_count": 2,
   "metadata": {},
   "outputs": [],
   "source": [
    "# Initialize the WebDriver (Here, we use Chrome)\n",
    "driver = webdriver.Chrome()  # Make sure ChromeDriver is in your PATH or specify its path here\n",
    "\n",
    "# Open the desired webpage\n",
    "driver.get(\"https://dps.psx.com.pk/indices\")  # Replace with the URL of the webpage\n",
    "\n",
    "# Locate the <a> tag you want to click\n",
    "# Option 1: Find by link text\n",
    "link_text = \"NBPPGI\"  # Replace with the text inside the <a> tag\n",
    "link = driver.find_element(By.LINK_TEXT, link_text)\n",
    "\n",
    "# Option 2: Find by partial link text\n",
    "# link = driver.find_element(By.PARTIAL_LINK_TEXT, \"Partial text\")\n",
    "\n",
    "# Option 3: Find by CSS selector or XPath if the link has a specific ID, class, or unique path\n",
    "# link = driver.find_element(By.CSS_SELECTOR, \"a.your-class-name\")  # Replace with actual class or ID\n",
    "# link = driver.find_element(By.XPATH, \"//a[@href='https://example.com']\")  # Replace with actual href or other attribute\n",
    "\n",
    "# Click the link\n",
    "link.click()\n",
    "\n",
    "# Wait a few seconds to see the result\n",
    "time.sleep(5)\n",
    "\n",
    "# Close the browser\n",
    "# driver.quit()"
   ]
  },
  {
   "cell_type": "code",
   "execution_count": 3,
   "metadata": {},
   "outputs": [],
   "source": [
    "# # Example: Extract specific data (e.g., from a <p> tag with class \"example\")\n",
    "# companies = driver.find_elements(By.CSS_SELECTOR, \"a.tbl__symbol\")  # Adjust the selector as needed\n",
    "# print(\"Extracted content: \")\n",
    "# for company in companies:\n",
    "#     print(company.text)"
   ]
  },
  {
   "cell_type": "code",
   "execution_count": 4,
   "metadata": {},
   "outputs": [],
   "source": [
    "# table_head = driver.find_elements(By.CSS_SELECTOR, \"table.dataTable > thead.tbl__head\")\n",
    "# table_head[0].text"
   ]
  },
  {
   "cell_type": "code",
   "execution_count": 5,
   "metadata": {},
   "outputs": [],
   "source": [
    "# table_body = driver.find_elements(By.CSS_SELECTOR, \"table.dataTable > tbody.tbl__body\")\n",
    "# table_body[0]"
   ]
  },
  {
   "cell_type": "code",
   "execution_count": 6,
   "metadata": {},
   "outputs": [
    {
     "name": "stdout",
     "output_type": "stream",
     "text": [
      "   Symbol                                   Name    LDCP   Current  Change  \\\n",
      "0     PPL             Pakistan Petroleum Limited  152.67    163.85   11.18   \n",
      "1    OGDC  Oil & Gas Development Company Limited  188.29    193.62    5.33   \n",
      "2     HBL                     Habib Bank Limited  169.96    177.44    7.48   \n",
      "3    HUBC          The Hub Power Company Limited  110.36    109.45   -0.91   \n",
      "4     FFC       Fauji Fertilizer Company Limited  327.17    325.67   -1.50   \n",
      "5    MEBL                    Meezan Bank Limited  233.45    227.44   -6.01   \n",
      "6     UBL                    United Bank Limited  347.77    335.52  -12.25   \n",
      "7    BAHL                  Bank AL Habib Limited  134.57    135.06    0.49   \n",
      "8   EFERT              Engro Fertilizers Limited  203.55    201.09   -2.46   \n",
      "9   ENGRO              Engro Corporation Limited  324.30    327.23    2.93   \n",
      "10    SYS                        Systems Limited  544.72    554.39    9.67   \n",
      "11    MCB                       MCB Bank Limited  279.39    267.81  -11.58   \n",
      "12    POL             Pakistan Oilfields Limited  577.71    579.29    1.58   \n",
      "13   LUCK                   Lucky Cement Limited  995.71  1,019.67   23.96   \n",
      "14    MTL                Millat Tractors Limited  571.68    578.63    6.95   \n",
      "\n",
      "   Change (%) IDX WTG (%) IDX Point      Volume Freefloat (M) Market Cap (M)  \n",
      "0       7.32%      10.35%    192.65  13,297,913         1,074        175,961  \n",
      "1       2.83%      10.05%     75.52  11,210,333           883        170,967  \n",
      "2       4.40%       8.31%     95.56   9,935,745           796        141,271  \n",
      "3      -0.83%       6.37%    -14.45   5,793,049           989        108,288  \n",
      "4      -0.46%      10.34%    -13.00   3,183,787           540        175,896  \n",
      "5      -2.57%       6.25%    -45.04   3,149,852           467        106,229  \n",
      "6      -3.52%       8.51%    -84.77   2,157,257           431        144,696  \n",
      "7       0.36%       4.45%      4.40   1,731,635           560         75,661  \n",
      "8      -1.21%       7.19%    -23.99     975,574           608        122,235  \n",
      "9       0.90%       4.78%     11.67     895,631           248         81,226  \n",
      "10      1.78%       5.60%     26.67     708,547           172         95,276  \n",
      "11     -4.15%       5.35%    -63.12     605,361           340         90,976  \n",
      "12      0.27%       3.71%      2.76     441,938           109         63,136  \n",
      "13      2.41%       5.86%     37.57     215,710            98         99,647  \n",
      "14      1.22%       2.88%      9.44      84,129            85         48,979  \n"
     ]
    }
   ],
   "source": [
    "# Locate the table element by its class name or other identifying attributes\n",
    "table = driver.find_element(By.CSS_SELECTOR, \"table.dataTable\")\n",
    "\n",
    "# Initialize lists to store table data\n",
    "data = []\n",
    "\n",
    "# Find all rows in the table body\n",
    "rows = table.find_elements(By.TAG_NAME, \"tr\")\n",
    "\n",
    "# Loop through each row to extract cell data\n",
    "for row in rows[1:]:  # Skip the header row if necessary\n",
    "    # Find all cells in the row\n",
    "    cells = row.find_elements(By.TAG_NAME, \"td\")\n",
    "    # Extract text from each cell and add to a temporary list\n",
    "    row_data = [cell.text for cell in cells]\n",
    "    # Append the row data to the main data list\n",
    "    data.append(row_data)\n",
    "\n",
    "# Create a DataFrame from the data\n",
    "columns = [\"Symbol\", \"Name\", \"LDCP\", \"Current\", \"Change\", \"Change (%)\", \"IDX WTG (%)\", \"IDX Point\", \"Volume\", \"Freefloat (M)\", \"Market Cap (M)\"]  # Adjust as needed\n",
    "df = pd.DataFrame(data, columns=columns)\n",
    "\n",
    "# Print or save the DataFrame\n",
    "print(df)\n",
    "\n",
    "# Optionally, save to a CSV file\n",
    "# df.to_csv(\"nbppgi_data.csv\", index=False)\n",
    "\n",
    "# Close the browser\n",
    "# driver.quit()"
   ]
  },
  {
   "cell_type": "code",
   "execution_count": 7,
   "metadata": {},
   "outputs": [
    {
     "name": "stdout",
     "output_type": "stream",
     "text": [
      "Data saved to daily_nbppgi_data.csv\n"
     ]
    }
   ],
   "source": [
    "# Add a date column to indicate the day’s data\n",
    "df[\"Date\"] = datetime.now().strftime(\"%Y-%m-%d\")\n",
    "\n",
    "# Specify the CSV file name\n",
    "csv_file = \"daily_nbppgi_data.csv\"\n",
    "\n",
    "# Check if the file exists. If it does, append without headers. If not, create with headers.\n",
    "if os.path.exists(csv_file):\n",
    "    df.to_csv(csv_file, mode=\"a\", index=False, header=False)\n",
    "else:\n",
    "    df.to_csv(csv_file, mode=\"w\", index=False, header=True)\n",
    "\n",
    "print(f\"Data saved to {csv_file}\")\n",
    "\n",
    "driver.quit()"
   ]
  },
  {
   "cell_type": "markdown",
   "metadata": {},
   "source": [
    "https://1drv.ms/x/c/a492b86365c32764/EcEhMtf_JwpKrNuViJ16WNEBxa3ln-64tcQ_mu2T_B-ThA?e=Ep7Vbw"
   ]
  }
 ],
 "metadata": {
  "kernelspec": {
   "display_name": "env",
   "language": "python",
   "name": "python3"
  },
  "language_info": {
   "codemirror_mode": {
    "name": "ipython",
    "version": 3
   },
   "file_extension": ".py",
   "mimetype": "text/x-python",
   "name": "python",
   "nbconvert_exporter": "python",
   "pygments_lexer": "ipython3",
   "version": "3.12.0"
  }
 },
 "nbformat": 4,
 "nbformat_minor": 2
}
