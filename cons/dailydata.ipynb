{
 "cells": [
  {
   "cell_type": "code",
   "execution_count": 15,
   "metadata": {},
   "outputs": [],
   "source": [
    "from selenium.webdriver.common.by import By\n",
    "from selenium import webdriver\n",
    "import requests\n",
    "import time\n",
    "import os"
   ]
  },
  {
   "cell_type": "code",
   "execution_count": null,
   "metadata": {},
   "outputs": [],
   "source": [
    "# Step 1: Set up Chrome WebDriver with a custom download directory\n",
    "download_dir = \"E:/Codes/Python/web scraping/cons/dailydata\"  # Replace with your desired download path\n",
    "\n",
    "# Initialize the WebDriver (Here, we use Chrome)\n",
    "driver = webdriver.Chrome()\n",
    "\n",
    "# Step 2: Navigate to the webpage and download the file\n",
    "url = \"https://dps.psx.com.pk/downloads\"  # Replace with the target URL\n",
    "driver.get(url)\n",
    "\n",
    "# Find and click the download button (modify the selector as per your page)\n",
    "download_link  = driver.find_element(By.CSS_SELECTOR, \"div.downloads > div:nth-last-child(2) a.xls\").get_attribute(\"href\")\n",
    "\n",
    "# Step 4: Use requests to download the file\n",
    "if download_link:\n",
    "    base_url = \"https://dps.psx.com.pk/downloads\"  # Replace with the actual base URL of the site if needed\n",
    "    full_url = download_link if download_link.startswith(\"http\") else base_url + download_link\n",
    "    print(f\"Downloading file from: {full_url}\")\n",
    "\n",
    "    # Extract the file name from the URL\n",
    "    file_name = os.path.basename(download_link)  # Gets the last part of the URL (e.g., \"2024-11-28.xls\")\n",
    "    print(f\"Original file name: {file_name}\")\n",
    "    \n",
    "    # Save the file locally\n",
    "    download_dir = \"E:/Codes/Python/web scraping/cons/dailydata\"  # Replace with your desired download path\n",
    "    local_file_path = os.path.join(download_dir, file_name)\n",
    "    \n",
    "    # Download the file\n",
    "    response = requests.get(full_url, allow_redirects=True)\n",
    "    with open(local_file_path, \"wb\") as file:\n",
    "        file.write(response.content)\n",
    "    \n",
    "    print(f\"File downloaded to: {local_file_path}\")\n",
    "else:\n",
    "    print(\"Download link not found!\")  # Replace with the actual selector\n",
    "\n",
    "# Wait for the file to download\n",
    "time.sleep(5)  # Adjust based on file size and download speed\n",
    "\n",
    "# Clean up and close the browser\n",
    "driver.quit()"
   ]
  }
 ],
 "metadata": {
  "kernelspec": {
   "display_name": "env",
   "language": "python",
   "name": "python3"
  },
  "language_info": {
   "codemirror_mode": {
    "name": "ipython",
    "version": 3
   },
   "file_extension": ".py",
   "mimetype": "text/x-python",
   "name": "python",
   "nbconvert_exporter": "python",
   "pygments_lexer": "ipython3",
   "version": "3.12.0"
  }
 },
 "nbformat": 4,
 "nbformat_minor": 2
}
