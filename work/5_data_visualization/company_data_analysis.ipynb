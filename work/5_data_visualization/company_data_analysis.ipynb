{
 "cells": [
  {
   "cell_type": "markdown",
   "id": "f243a061",
   "metadata": {},
   "source": [
    "# Company Stock Data Analysis\n",
    "\n",
    "This notebook performs comprehensive data analysis on individual company stock data from KSE100/KSE30 datasets.\n",
    "\n",
    "## Features:\n",
    "- Load company-specific sheet data from Excel files\n",
    "- Statistical summary and data quality checks\n",
    "- Time series analysis\n",
    "- Price and volume analysis\n",
    "- Trend visualization\n",
    "- Technical indicators (Moving Averages, Volatility)\n",
    "- Returns analysis"
   ]
  },
  {
   "cell_type": "markdown",
   "id": "2161956a",
   "metadata": {},
   "source": [
    "## 1. Import Required Libraries"
   ]
  },
  {
   "cell_type": "code",
   "execution_count": 2,
   "id": "4d8d91af",
   "metadata": {},
   "outputs": [
    {
     "name": "stderr",
     "output_type": "stream",
     "text": [
      "Matplotlib is building the font cache; this may take a moment.\n"
     ]
    },
    {
     "name": "stdout",
     "output_type": "stream",
     "text": [
      "Libraries imported successfully!\n"
     ]
    }
   ],
   "source": [
    "import pandas as pd\n",
    "import numpy as np\n",
    "import matplotlib.pyplot as plt\n",
    "import seaborn as sns\n",
    "from datetime import datetime\n",
    "import warnings\n",
    "\n",
    "warnings.filterwarnings('ignore')\n",
    "\n",
    "# Set plotting style\n",
    "plt.style.use('seaborn-v0_8-darkgrid')\n",
    "sns.set_palette(\"husl\")\n",
    "\n",
    "# Display settings\n",
    "pd.set_option('display.max_columns', None)\n",
    "pd.set_option('display.width', None)\n",
    "pd.set_option('display.max_rows', 100)\n",
    "\n",
    "print(\"Libraries imported successfully!\")"
   ]
  },
  {
   "cell_type": "markdown",
   "id": "46dc1585",
   "metadata": {},
   "source": [
    "## 2. Configuration - Set File Path and Company Symbol\n",
    "\n",
    "**Instructions:**\n",
    "- Set `FILE_PATH` to the Excel file in `work/4_separate_companies/merge_columns/` folder\n",
    "- Set `COMPANY_SYMBOL` to the company ticker/symbol (sheet name in the Excel file)\n",
    "\n",
    "Available files:\n",
    "- `kse100_daily_data_sep_companies.xlsx`\n",
    "- `kse30_daily_data_sep_companies.xlsx`"
   ]
  },
  {
   "cell_type": "code",
   "execution_count": 3,
   "id": "a7faf826",
   "metadata": {},
   "outputs": [
    {
     "name": "stdout",
     "output_type": "stream",
     "text": [
      "Configuration:\n",
      "  File: e:\\Codes\\Python\\indexfundproject\\work\\4_separate_companies\\merge_columns\\kse100_daily_data_sep_companies.xlsx\n",
      "  Company Symbol: OGDC\n"
     ]
    }
   ],
   "source": [
    "# ========== CONFIGURATION ==========\n",
    "# Set your file path and company symbol here\n",
    "\n",
    "FILE_PATH = r'e:\\Codes\\Python\\indexfundproject\\work\\4_separate_companies\\merge_columns\\kse100_daily_data_sep_companies.xlsx'\n",
    "COMPANY_SYMBOL = 'OGDC'  # Change this to your desired company symbol\n",
    "\n",
    "# ===================================\n",
    "\n",
    "print(f\"Configuration:\")\n",
    "print(f\"  File: {FILE_PATH}\")\n",
    "print(f\"  Company Symbol: {COMPANY_SYMBOL}\")"
   ]
  },
  {
   "cell_type": "markdown",
   "id": "3dc8e7e5",
   "metadata": {},
   "source": [
    "## 3. Load Data\n",
    "\n",
    "Load the company data from the specified Excel file and sheet."
   ]
  },
  {
   "cell_type": "code",
   "execution_count": 4,
   "id": "22632e23",
   "metadata": {},
   "outputs": [
    {
     "name": "stdout",
     "output_type": "stream",
     "text": [
      "Total sheets in file: 141\n",
      "\n",
      "First 10 available company symbols:\n",
      "  1. ABL\n",
      "  2. ABOT\n",
      "  3. AGIL\n",
      "  4. AGL\n",
      "  5. AGP\n",
      "  6. AICL\n",
      "  7. AIRLINK\n",
      "  8. AKBL\n",
      "  9. ANL\n",
      "  10. APL\n",
      "\n",
      "✓ Company symbol 'OGDC' found!\n"
     ]
    }
   ],
   "source": [
    "# Load available sheets\n",
    "xl_file = pd.ExcelFile(FILE_PATH)\n",
    "available_sheets = xl_file.sheet_names\n",
    "\n",
    "print(f\"Total sheets in file: {len(available_sheets)}\")\n",
    "print(f\"\\nFirst 10 available company symbols:\")\n",
    "for i, sheet in enumerate(available_sheets[:10], 1):\n",
    "    print(f\"  {i}. {sheet}\")\n",
    "\n",
    "# Check if company symbol exists\n",
    "if COMPANY_SYMBOL not in available_sheets:\n",
    "    print(f\"\\n❌ ERROR: '{COMPANY_SYMBOL}' not found in the file!\")\n",
    "    print(f\"\\nAvailable symbols: {', '.join(available_sheets[:20])}...\")\n",
    "else:\n",
    "    print(f\"\\n✓ Company symbol '{COMPANY_SYMBOL}' found!\")"
   ]
  },
  {
   "cell_type": "code",
   "execution_count": 5,
   "id": "559c9073",
   "metadata": {},
   "outputs": [
    {
     "name": "stdout",
     "output_type": "stream",
     "text": [
      "Data loaded successfully for OGDC!\n",
      "\n",
      "Dataset shape: 1411 rows × 11 columns\n",
      "\n",
      "Columns: ['Date', 'ISIN', 'SYMBOL', 'COMPANY', 'PRICE', 'IDX WT %', 'FF BASED SHARES', 'FF BASED MCAP', 'ORD SHARES', 'ORD SHARES MCAP', 'VOLUME']\n",
      "\n",
      "First 5 rows:\n"
     ]
    },
    {
     "data": {
      "text/html": [
       "<div>\n",
       "<style scoped>\n",
       "    .dataframe tbody tr th:only-of-type {\n",
       "        vertical-align: middle;\n",
       "    }\n",
       "\n",
       "    .dataframe tbody tr th {\n",
       "        vertical-align: top;\n",
       "    }\n",
       "\n",
       "    .dataframe thead th {\n",
       "        text-align: right;\n",
       "    }\n",
       "</style>\n",
       "<table border=\"1\" class=\"dataframe\">\n",
       "  <thead>\n",
       "    <tr style=\"text-align: right;\">\n",
       "      <th></th>\n",
       "      <th>Date</th>\n",
       "      <th>ISIN</th>\n",
       "      <th>SYMBOL</th>\n",
       "      <th>COMPANY</th>\n",
       "      <th>PRICE</th>\n",
       "      <th>IDX WT %</th>\n",
       "      <th>FF BASED SHARES</th>\n",
       "      <th>FF BASED MCAP</th>\n",
       "      <th>ORD SHARES</th>\n",
       "      <th>ORD SHARES MCAP</th>\n",
       "      <th>VOLUME</th>\n",
       "    </tr>\n",
       "  </thead>\n",
       "  <tbody>\n",
       "    <tr>\n",
       "      <th>0</th>\n",
       "      <td>2020-01-01</td>\n",
       "      <td>PK0080201012</td>\n",
       "      <td>OGDC</td>\n",
       "      <td>Oil &amp; Gas Development Company Ltd.</td>\n",
       "      <td>142.92</td>\n",
       "      <td>4.96</td>\n",
       "      <td>645139260</td>\n",
       "      <td>92203303039.2</td>\n",
       "      <td>4300928400</td>\n",
       "      <td>614688686928.0</td>\n",
       "      <td>784400</td>\n",
       "    </tr>\n",
       "    <tr>\n",
       "      <th>1</th>\n",
       "      <td>2020-01-02</td>\n",
       "      <td>PK0080201012</td>\n",
       "      <td>OGDC</td>\n",
       "      <td>Oil &amp; Gas Development Company Ltd.</td>\n",
       "      <td>147.16</td>\n",
       "      <td>4.98</td>\n",
       "      <td>645139260</td>\n",
       "      <td>94938693501.6</td>\n",
       "      <td>4300928400</td>\n",
       "      <td>632924623344.0</td>\n",
       "      <td>4383500</td>\n",
       "    </tr>\n",
       "    <tr>\n",
       "      <th>2</th>\n",
       "      <td>2020-01-03</td>\n",
       "      <td>PK0080201012</td>\n",
       "      <td>OGDC</td>\n",
       "      <td>Oil &amp; Gas Development Company Ltd.</td>\n",
       "      <td>149.48</td>\n",
       "      <td>5.07</td>\n",
       "      <td>645139260</td>\n",
       "      <td>96435416584.8</td>\n",
       "      <td>4300928400</td>\n",
       "      <td>642902777232.0</td>\n",
       "      <td>4018800</td>\n",
       "    </tr>\n",
       "    <tr>\n",
       "      <th>3</th>\n",
       "      <td>2020-01-06</td>\n",
       "      <td>PK0080201012</td>\n",
       "      <td>OGDC</td>\n",
       "      <td>Oil &amp; Gas Development Company Ltd.</td>\n",
       "      <td>148.56</td>\n",
       "      <td>5.17</td>\n",
       "      <td>645139260</td>\n",
       "      <td>95841888465.6</td>\n",
       "      <td>4300928400</td>\n",
       "      <td>638945923104.0</td>\n",
       "      <td>3992300</td>\n",
       "    </tr>\n",
       "    <tr>\n",
       "      <th>4</th>\n",
       "      <td>2020-01-07</td>\n",
       "      <td>PK0080201012</td>\n",
       "      <td>OGDC</td>\n",
       "      <td>Oil &amp; Gas Development Company Ltd.</td>\n",
       "      <td>149.01</td>\n",
       "      <td>5.11</td>\n",
       "      <td>645139260</td>\n",
       "      <td>96132201132.6</td>\n",
       "      <td>4300928400</td>\n",
       "      <td>640881340884.0</td>\n",
       "      <td>2355100</td>\n",
       "    </tr>\n",
       "  </tbody>\n",
       "</table>\n",
       "</div>"
      ],
      "text/plain": [
       "         Date          ISIN SYMBOL                              COMPANY  \\\n",
       "0  2020-01-01  PK0080201012   OGDC  Oil & Gas Development Company Ltd.    \n",
       "1  2020-01-02  PK0080201012   OGDC  Oil & Gas Development Company Ltd.    \n",
       "2  2020-01-03  PK0080201012   OGDC  Oil & Gas Development Company Ltd.    \n",
       "3  2020-01-06  PK0080201012   OGDC  Oil & Gas Development Company Ltd.    \n",
       "4  2020-01-07  PK0080201012   OGDC  Oil & Gas Development Company Ltd.    \n",
       "\n",
       "    PRICE  IDX WT % FF BASED SHARES  FF BASED MCAP  ORD SHARES  \\\n",
       "0  142.92      4.96       645139260  92203303039.2  4300928400   \n",
       "1  147.16      4.98       645139260  94938693501.6  4300928400   \n",
       "2  149.48      5.07       645139260  96435416584.8  4300928400   \n",
       "3  148.56      5.17       645139260  95841888465.6  4300928400   \n",
       "4  149.01      5.11       645139260  96132201132.6  4300928400   \n",
       "\n",
       "  ORD SHARES MCAP   VOLUME  \n",
       "0  614688686928.0   784400  \n",
       "1  632924623344.0  4383500  \n",
       "2  642902777232.0  4018800  \n",
       "3  638945923104.0  3992300  \n",
       "4  640881340884.0  2355100  "
      ]
     },
     "execution_count": 5,
     "metadata": {},
     "output_type": "execute_result"
    }
   ],
   "source": [
    "# Load the company data\n",
    "df = pd.read_excel(FILE_PATH, sheet_name=COMPANY_SYMBOL)\n",
    "\n",
    "print(f\"Data loaded successfully for {COMPANY_SYMBOL}!\")\n",
    "print(f\"\\nDataset shape: {df.shape[0]} rows × {df.shape[1]} columns\")\n",
    "print(f\"\\nColumns: {list(df.columns)}\")\n",
    "\n",
    "# Display first few rows\n",
    "print(f\"\\nFirst 5 rows:\")\n",
    "df.head()"
   ]
  },
  {
   "cell_type": "markdown",
   "id": "04a1c792",
   "metadata": {},
   "source": [
    "## 4. Data Cleaning and Preprocessing"
   ]
  },
  {
   "cell_type": "code",
   "execution_count": 6,
   "id": "0fc40328",
   "metadata": {},
   "outputs": [
    {
     "name": "stdout",
     "output_type": "stream",
     "text": [
      "✓ Date column 'Date' converted to datetime and sorted\n",
      "\n",
      "Missing Values Analysis:\n",
      "  ✓ No missing values found!\n",
      "\n",
      "Data Types:\n",
      "Date               datetime64[ns]\n",
      "ISIN                       object\n",
      "SYMBOL                     object\n",
      "COMPANY                    object\n",
      "PRICE                     float64\n",
      "IDX WT %                  float64\n",
      "FF BASED SHARES            object\n",
      "FF BASED MCAP              object\n",
      "ORD SHARES                 object\n",
      "ORD SHARES MCAP            object\n",
      "VOLUME                      int64\n",
      "dtype: object\n"
     ]
    }
   ],
   "source": [
    "# Make a copy for processing\n",
    "data = df.copy()\n",
    "\n",
    "# Convert Date column to datetime if it exists\n",
    "date_columns = [col for col in data.columns if 'date' in col.lower()]\n",
    "if date_columns:\n",
    "    data[date_columns[0]] = pd.to_datetime(data[date_columns[0]])\n",
    "    data = data.sort_values(by=date_columns[0]).reset_index(drop=True)\n",
    "    print(f\"✓ Date column '{date_columns[0]}' converted to datetime and sorted\")\n",
    "\n",
    "# Check for missing values\n",
    "missing_values = data.isnull().sum()\n",
    "missing_pct = (missing_values / len(data)) * 100\n",
    "\n",
    "print(f\"\\nMissing Values Analysis:\")\n",
    "missing_df = pd.DataFrame({\n",
    "    'Column': missing_values.index,\n",
    "    'Missing Count': missing_values.values,\n",
    "    'Missing %': missing_pct.values\n",
    "})\n",
    "missing_df = missing_df[missing_df['Missing Count'] > 0].sort_values('Missing Count', ascending=False)\n",
    "\n",
    "if len(missing_df) > 0:\n",
    "    print(missing_df.to_string(index=False))\n",
    "else:\n",
    "    print(\"  ✓ No missing values found!\")\n",
    "\n",
    "# Data types\n",
    "print(f\"\\nData Types:\")\n",
    "print(data.dtypes)"
   ]
  },
  {
   "cell_type": "markdown",
   "id": "9f62e73f",
   "metadata": {},
   "source": [
    "## 5. Statistical Summary"
   ]
  },
  {
   "cell_type": "code",
   "execution_count": 7,
   "id": "cc4e15b6",
   "metadata": {},
   "outputs": [
    {
     "name": "stdout",
     "output_type": "stream",
     "text": [
      "Statistical Summary for OGDC:\n",
      "================================================================================\n"
     ]
    },
    {
     "data": {
      "text/html": [
       "<div>\n",
       "<style scoped>\n",
       "    .dataframe tbody tr th:only-of-type {\n",
       "        vertical-align: middle;\n",
       "    }\n",
       "\n",
       "    .dataframe tbody tr th {\n",
       "        vertical-align: top;\n",
       "    }\n",
       "\n",
       "    .dataframe thead th {\n",
       "        text-align: right;\n",
       "    }\n",
       "</style>\n",
       "<table border=\"1\" class=\"dataframe\">\n",
       "  <thead>\n",
       "    <tr style=\"text-align: right;\">\n",
       "      <th></th>\n",
       "      <th>PRICE</th>\n",
       "      <th>IDX WT %</th>\n",
       "      <th>VOLUME</th>\n",
       "    </tr>\n",
       "  </thead>\n",
       "  <tbody>\n",
       "    <tr>\n",
       "      <th>count</th>\n",
       "      <td>1411.000000</td>\n",
       "      <td>1411.000000</td>\n",
       "      <td>1.411000e+03</td>\n",
       "    </tr>\n",
       "    <tr>\n",
       "      <th>mean</th>\n",
       "      <td>121.242481</td>\n",
       "      <td>3.596429</td>\n",
       "      <td>5.248529e+06</td>\n",
       "    </tr>\n",
       "    <tr>\n",
       "      <th>std</th>\n",
       "      <td>49.842416</td>\n",
       "      <td>0.527402</td>\n",
       "      <td>5.744400e+06</td>\n",
       "    </tr>\n",
       "    <tr>\n",
       "      <th>min</th>\n",
       "      <td>69.770000</td>\n",
       "      <td>0.000000</td>\n",
       "      <td>1.075750e+05</td>\n",
       "    </tr>\n",
       "    <tr>\n",
       "      <th>25%</th>\n",
       "      <td>86.215000</td>\n",
       "      <td>3.160000</td>\n",
       "      <td>1.792750e+06</td>\n",
       "    </tr>\n",
       "    <tr>\n",
       "      <th>50%</th>\n",
       "      <td>101.840000</td>\n",
       "      <td>3.620000</td>\n",
       "      <td>3.403901e+06</td>\n",
       "    </tr>\n",
       "    <tr>\n",
       "      <th>75%</th>\n",
       "      <td>133.535000</td>\n",
       "      <td>3.862572</td>\n",
       "      <td>6.281210e+06</td>\n",
       "    </tr>\n",
       "    <tr>\n",
       "      <th>max</th>\n",
       "      <td>282.860000</td>\n",
       "      <td>5.170000</td>\n",
       "      <td>5.294712e+07</td>\n",
       "    </tr>\n",
       "  </tbody>\n",
       "</table>\n",
       "</div>"
      ],
      "text/plain": [
       "             PRICE     IDX WT %        VOLUME\n",
       "count  1411.000000  1411.000000  1.411000e+03\n",
       "mean    121.242481     3.596429  5.248529e+06\n",
       "std      49.842416     0.527402  5.744400e+06\n",
       "min      69.770000     0.000000  1.075750e+05\n",
       "25%      86.215000     3.160000  1.792750e+06\n",
       "50%     101.840000     3.620000  3.403901e+06\n",
       "75%     133.535000     3.862572  6.281210e+06\n",
       "max     282.860000     5.170000  5.294712e+07"
      ]
     },
     "metadata": {},
     "output_type": "display_data"
    },
    {
     "name": "stdout",
     "output_type": "stream",
     "text": [
      "\n",
      "Additional Statistics:\n",
      "\n",
      "PRICE:\n",
      "  Median: 101.84\n",
      "  Skewness: 1.46\n",
      "  Kurtosis: 1.18\n",
      "\n",
      "IDX WT %:\n",
      "  Median: 3.62\n",
      "  Skewness: -0.46\n",
      "  Kurtosis: 5.41\n",
      "\n",
      "VOLUME:\n",
      "  Median: 3403901.00\n",
      "  Skewness: 2.98\n",
      "  Kurtosis: 12.96\n",
      "  Median: 101.84\n",
      "  Skewness: 1.46\n",
      "  Kurtosis: 1.18\n",
      "\n",
      "IDX WT %:\n",
      "  Median: 3.62\n",
      "  Skewness: -0.46\n",
      "  Kurtosis: 5.41\n",
      "\n",
      "VOLUME:\n",
      "  Median: 3403901.00\n",
      "  Skewness: 2.98\n",
      "  Kurtosis: 12.96\n"
     ]
    }
   ],
   "source": [
    "# Identify numeric columns\n",
    "numeric_cols = data.select_dtypes(include=[np.number]).columns.tolist()\n",
    "\n",
    "print(f\"Statistical Summary for {COMPANY_SYMBOL}:\")\n",
    "print(\"=\"*80)\n",
    "\n",
    "if numeric_cols:\n",
    "    summary = data[numeric_cols].describe()\n",
    "    display(summary)\n",
    "    \n",
    "    # Additional statistics\n",
    "    print(\"\\nAdditional Statistics:\")\n",
    "    for col in numeric_cols:\n",
    "        print(f\"\\n{col}:\")\n",
    "        print(f\"  Median: {data[col].median():.2f}\")\n",
    "        print(f\"  Skewness: {data[col].skew():.2f}\")\n",
    "        print(f\"  Kurtosis: {data[col].kurtosis():.2f}\")\n",
    "else:\n",
    "    print(\"No numeric columns found.\")"
   ]
  },
  {
   "cell_type": "markdown",
   "id": "479c0769",
   "metadata": {},
   "source": [
    "## 6. Price Analysis\n",
    "\n",
    "Analyze price movements (Open, High, Low, Close)"
   ]
  },
  {
   "cell_type": "code",
   "execution_count": 8,
   "id": "0dcaddfd",
   "metadata": {},
   "outputs": [
    {
     "name": "stdout",
     "output_type": "stream",
     "text": [
      "Price Columns Found: ['PRICE']\n",
      "\n",
      "Price Range Analysis:\n",
      "\n",
      "PRICE:\n",
      "  Min: 69.77\n",
      "  Max: 282.86\n",
      "  Range: 213.09\n",
      "  Mean: 121.24\n",
      "  Std Dev: 49.84\n",
      "  CV (Coefficient of Variation): 41.11%\n"
     ]
    }
   ],
   "source": [
    "# Identify price columns\n",
    "price_cols = [col for col in data.columns if any(x in col.upper() for x in ['OPEN', 'HIGH', 'LOW', 'CLOSE', 'PRICE'])]\n",
    "\n",
    "print(f\"Price Columns Found: {price_cols}\")\n",
    "\n",
    "if price_cols:\n",
    "    # Price range analysis\n",
    "    print(f\"\\nPrice Range Analysis:\")\n",
    "    for col in price_cols:\n",
    "        if col in data.columns:\n",
    "            print(f\"\\n{col}:\")\n",
    "            print(f\"  Min: {data[col].min():.2f}\")\n",
    "            print(f\"  Max: {data[col].max():.2f}\")\n",
    "            print(f\"  Range: {data[col].max() - data[col].min():.2f}\")\n",
    "            print(f\"  Mean: {data[col].mean():.2f}\")\n",
    "            print(f\"  Std Dev: {data[col].std():.2f}\")\n",
    "            print(f\"  CV (Coefficient of Variation): {(data[col].std() / data[col].mean() * 100):.2f}%\")"
   ]
  },
  {
   "cell_type": "markdown",
   "id": "a852578d",
   "metadata": {},
   "source": [
    "## 7. Volume Analysis"
   ]
  },
  {
   "cell_type": "code",
   "execution_count": 9,
   "id": "f8dd13aa",
   "metadata": {},
   "outputs": [
    {
     "name": "stdout",
     "output_type": "stream",
     "text": [
      "Volume Analysis for 'VOLUME':\n",
      "================================================================================\n",
      "Total Volume: 7,405,674,341\n",
      "Average Daily Volume: 5,248,529\n",
      "Median Daily Volume: 3,403,901\n",
      "Max Daily Volume: 52,947,125\n",
      "Min Daily Volume: 107,575\n",
      "Std Dev: 5,744,400\n",
      "\n",
      "Volume Quartiles:\n",
      "  25th percentile: 1,792,750\n",
      "  50th percentile (Median): 3,403,901\n",
      "  75th percentile: 6,281,210\n"
     ]
    }
   ],
   "source": [
    "# Find volume column\n",
    "volume_cols = [col for col in data.columns if 'VOLUME' in col.upper()]\n",
    "\n",
    "if volume_cols:\n",
    "    volume_col = volume_cols[0]\n",
    "    print(f\"Volume Analysis for '{volume_col}':\")\n",
    "    print(\"=\"*80)\n",
    "    \n",
    "    print(f\"Total Volume: {data[volume_col].sum():,.0f}\")\n",
    "    print(f\"Average Daily Volume: {data[volume_col].mean():,.0f}\")\n",
    "    print(f\"Median Daily Volume: {data[volume_col].median():,.0f}\")\n",
    "    print(f\"Max Daily Volume: {data[volume_col].max():,.0f}\")\n",
    "    print(f\"Min Daily Volume: {data[volume_col].min():,.0f}\")\n",
    "    print(f\"Std Dev: {data[volume_col].std():,.0f}\")\n",
    "    \n",
    "    # Volume quartiles\n",
    "    print(f\"\\nVolume Quartiles:\")\n",
    "    quartiles = data[volume_col].quantile([0.25, 0.5, 0.75])\n",
    "    print(f\"  25th percentile: {quartiles[0.25]:,.0f}\")\n",
    "    print(f\"  50th percentile (Median): {quartiles[0.5]:,.0f}\")\n",
    "    print(f\"  75th percentile: {quartiles[0.75]:,.0f}\")\n",
    "else:\n",
    "    print(\"No volume column found in the data.\")"
   ]
  },
  {
   "cell_type": "markdown",
   "id": "370fd2c5",
   "metadata": {},
   "source": [
    "## 8. Time Series Visualization\n",
    "\n",
    "Plot price and volume trends over time"
   ]
  },
  {
   "cell_type": "code",
   "execution_count": 10,
   "id": "c02e5bd6",
   "metadata": {},
   "outputs": [
    {
     "name": "stdout",
     "output_type": "stream",
     "text": [
      "No Close price column found.\n"
     ]
    }
   ],
   "source": [
    "# Check if we have date and price columns\n",
    "if date_columns and price_cols:\n",
    "    date_col = date_columns[0]\n",
    "    \n",
    "    # Find Close price column\n",
    "    close_cols = [col for col in price_cols if 'CLOSE' in col.upper()]\n",
    "    \n",
    "    if close_cols:\n",
    "        close_col = close_cols[0]\n",
    "        \n",
    "        # Create figure with subplots\n",
    "        fig, axes = plt.subplots(2, 1, figsize=(15, 10))\n",
    "        \n",
    "        # Plot 1: Price over time\n",
    "        axes[0].plot(data[date_col], data[close_col], linewidth=2, color='#2E86AB')\n",
    "        axes[0].set_title(f'{COMPANY_SYMBOL} - Close Price Over Time', fontsize=16, fontweight='bold')\n",
    "        axes[0].set_xlabel('Date', fontsize=12)\n",
    "        axes[0].set_ylabel('Close Price', fontsize=12)\n",
    "        axes[0].grid(True, alpha=0.3)\n",
    "        axes[0].tick_params(axis='x', rotation=45)\n",
    "        \n",
    "        # Plot 2: Volume over time\n",
    "        if volume_cols:\n",
    "            volume_col = volume_cols[0]\n",
    "            axes[1].bar(data[date_col], data[volume_col], color='#A23B72', alpha=0.6)\n",
    "            axes[1].set_title(f'{COMPANY_SYMBOL} - Trading Volume Over Time', fontsize=16, fontweight='bold')\n",
    "            axes[1].set_xlabel('Date', fontsize=12)\n",
    "            axes[1].set_ylabel('Volume', fontsize=12)\n",
    "            axes[1].grid(True, alpha=0.3)\n",
    "            axes[1].tick_params(axis='x', rotation=45)\n",
    "        \n",
    "        plt.tight_layout()\n",
    "        plt.show()\n",
    "    else:\n",
    "        print(\"No Close price column found.\")\n",
    "else:\n",
    "    print(\"Missing date or price columns for visualization.\")"
   ]
  },
  {
   "cell_type": "markdown",
   "id": "7d1ba245",
   "metadata": {},
   "source": [
    "## 9. OHLC Chart (Candlestick Style)"
   ]
  },
  {
   "cell_type": "code",
   "execution_count": 11,
   "id": "32e496bc",
   "metadata": {},
   "outputs": [
    {
     "name": "stdout",
     "output_type": "stream",
     "text": [
      "Cannot create OHLC chart. Found columns: []\n",
      "Required: Open, High, Low, Close\n"
     ]
    }
   ],
   "source": [
    "# Check for OHLC columns\n",
    "ohlc_map = {}\n",
    "for col in data.columns:\n",
    "    col_upper = col.upper()\n",
    "    if 'OPEN' in col_upper:\n",
    "        ohlc_map['Open'] = col\n",
    "    elif 'HIGH' in col_upper:\n",
    "        ohlc_map['High'] = col\n",
    "    elif 'LOW' in col_upper:\n",
    "        ohlc_map['Low'] = col\n",
    "    elif 'CLOSE' in col_upper:\n",
    "        ohlc_map['Close'] = col\n",
    "\n",
    "if len(ohlc_map) == 4 and date_columns:\n",
    "    date_col = date_columns[0]\n",
    "    \n",
    "    # Create OHLC visualization\n",
    "    fig, ax = plt.subplots(figsize=(15, 7))\n",
    "    \n",
    "    # Plot High-Low range as vertical lines\n",
    "    for idx in range(len(data)):\n",
    "        date = data[date_col].iloc[idx]\n",
    "        open_price = data[ohlc_map['Open']].iloc[idx]\n",
    "        high = data[ohlc_map['High']].iloc[idx]\n",
    "        low = data[ohlc_map['Low']].iloc[idx]\n",
    "        close = data[ohlc_map['Close']].iloc[idx]\n",
    "        \n",
    "        # Color: green if close > open, red otherwise\n",
    "        color = 'green' if close >= open_price else 'red'\n",
    "        \n",
    "        # High-Low line\n",
    "        ax.plot([date, date], [low, high], color=color, linewidth=0.5, alpha=0.8)\n",
    "        \n",
    "        # Open-Close box\n",
    "        height = abs(close - open_price)\n",
    "        bottom = min(open_price, close)\n",
    "        ax.bar(date, height, bottom=bottom, width=0.8, color=color, alpha=0.6)\n",
    "    \n",
    "    ax.set_title(f'{COMPANY_SYMBOL} - OHLC Chart', fontsize=16, fontweight='bold')\n",
    "    ax.set_xlabel('Date', fontsize=12)\n",
    "    ax.set_ylabel('Price', fontsize=12)\n",
    "    ax.grid(True, alpha=0.3)\n",
    "    plt.xticks(rotation=45)\n",
    "    plt.tight_layout()\n",
    "    plt.show()\n",
    "    \n",
    "    print(\"Note: Green indicates closing price higher than opening price\")\n",
    "    print(\"      Red indicates closing price lower than opening price\")\n",
    "else:\n",
    "    print(f\"Cannot create OHLC chart. Found columns: {list(ohlc_map.keys())}\")\n",
    "    print(\"Required: Open, High, Low, Close\")"
   ]
  },
  {
   "cell_type": "markdown",
   "id": "9b0bae86",
   "metadata": {},
   "source": [
    "## 10. Returns Analysis\n",
    "\n",
    "Calculate and analyze daily returns"
   ]
  },
  {
   "cell_type": "code",
   "execution_count": 12,
   "id": "85a7d2af",
   "metadata": {},
   "outputs": [
    {
     "name": "stdout",
     "output_type": "stream",
     "text": [
      "Cannot calculate returns - Close price column not found.\n"
     ]
    }
   ],
   "source": [
    "# Calculate returns if Close price exists\n",
    "if 'Close' in ohlc_map and date_columns:\n",
    "    close_col = ohlc_map['Close']\n",
    "    \n",
    "    # Daily returns (percentage change)\n",
    "    data['Daily_Return'] = data[close_col].pct_change() * 100\n",
    "    \n",
    "    # Log returns\n",
    "    data['Log_Return'] = np.log(data[close_col] / data[close_col].shift(1)) * 100\n",
    "    \n",
    "    print(f\"Returns Analysis for {COMPANY_SYMBOL}:\")\n",
    "    print(\"=\"*80)\n",
    "    \n",
    "    # Drop NaN from returns\n",
    "    returns = data['Daily_Return'].dropna()\n",
    "    \n",
    "    print(f\"\\nDaily Returns Statistics:\")\n",
    "    print(f\"  Mean Daily Return: {returns.mean():.4f}%\")\n",
    "    print(f\"  Median Daily Return: {returns.median():.4f}%\")\n",
    "    print(f\"  Std Dev (Volatility): {returns.std():.4f}%\")\n",
    "    print(f\"  Min Daily Return: {returns.min():.4f}%\")\n",
    "    print(f\"  Max Daily Return: {returns.max():.4f}%\")\n",
    "    print(f\"  Sharpe Ratio (assuming 0% risk-free rate): {returns.mean() / returns.std():.4f}\")\n",
    "    \n",
    "    # Positive vs Negative days\n",
    "    positive_days = (returns > 0).sum()\n",
    "    negative_days = (returns < 0).sum()\n",
    "    neutral_days = (returns == 0).sum()\n",
    "    \n",
    "    print(f\"\\nTrading Days Analysis:\")\n",
    "    print(f\"  Positive Days: {positive_days} ({positive_days/len(returns)*100:.2f}%)\")\n",
    "    print(f\"  Negative Days: {negative_days} ({negative_days/len(returns)*100:.2f}%)\")\n",
    "    print(f\"  Neutral Days: {neutral_days} ({neutral_days/len(returns)*100:.2f}%)\")\n",
    "    \n",
    "    # Annualized metrics (assuming 252 trading days)\n",
    "    annualized_return = returns.mean() * 252\n",
    "    annualized_volatility = returns.std() * np.sqrt(252)\n",
    "    \n",
    "    print(f\"\\nAnnualized Metrics (252 trading days):\")\n",
    "    print(f\"  Annualized Return: {annualized_return:.2f}%\")\n",
    "    print(f\"  Annualized Volatility: {annualized_volatility:.2f}%\")\n",
    "    \n",
    "else:\n",
    "    print(\"Cannot calculate returns - Close price column not found.\")"
   ]
  },
  {
   "cell_type": "markdown",
   "id": "b0ebcef1",
   "metadata": {},
   "source": [
    "## 11. Returns Distribution"
   ]
  },
  {
   "cell_type": "code",
   "execution_count": 13,
   "id": "3937a853",
   "metadata": {},
   "outputs": [],
   "source": [
    "# Visualize returns distribution\n",
    "if 'Daily_Return' in data.columns:\n",
    "    returns = data['Daily_Return'].dropna()\n",
    "    \n",
    "    fig, axes = plt.subplots(1, 2, figsize=(15, 5))\n",
    "    \n",
    "    # Histogram\n",
    "    axes[0].hist(returns, bins=50, color='#06A77D', alpha=0.7, edgecolor='black')\n",
    "    axes[0].axvline(returns.mean(), color='red', linestyle='--', linewidth=2, label=f'Mean: {returns.mean():.4f}%')\n",
    "    axes[0].axvline(returns.median(), color='orange', linestyle='--', linewidth=2, label=f'Median: {returns.median():.4f}%')\n",
    "    axes[0].set_title(f'{COMPANY_SYMBOL} - Daily Returns Distribution', fontsize=14, fontweight='bold')\n",
    "    axes[0].set_xlabel('Daily Return (%)', fontsize=12)\n",
    "    axes[0].set_ylabel('Frequency', fontsize=12)\n",
    "    axes[0].legend()\n",
    "    axes[0].grid(True, alpha=0.3)\n",
    "    \n",
    "    # Box plot\n",
    "    axes[1].boxplot(returns, vert=True)\n",
    "    axes[1].set_title(f'{COMPANY_SYMBOL} - Returns Box Plot', fontsize=14, fontweight='bold')\n",
    "    axes[1].set_ylabel('Daily Return (%)', fontsize=12)\n",
    "    axes[1].grid(True, alpha=0.3)\n",
    "    \n",
    "    plt.tight_layout()\n",
    "    plt.show()"
   ]
  },
  {
   "cell_type": "markdown",
   "id": "26416c6f",
   "metadata": {},
   "source": [
    "## 12. Moving Averages\n",
    "\n",
    "Calculate and visualize moving averages (MA)"
   ]
  },
  {
   "cell_type": "code",
   "execution_count": 14,
   "id": "d315e062",
   "metadata": {},
   "outputs": [],
   "source": [
    "# Calculate moving averages\n",
    "if 'Close' in ohlc_map and date_columns:\n",
    "    close_col = ohlc_map['Close']\n",
    "    date_col = date_columns[0]\n",
    "    \n",
    "    # Calculate MAs\n",
    "    data['MA_7'] = data[close_col].rolling(window=7).mean()\n",
    "    data['MA_30'] = data[close_col].rolling(window=30).mean()\n",
    "    data['MA_90'] = data[close_col].rolling(window=90).mean()\n",
    "    \n",
    "    # Plot\n",
    "    plt.figure(figsize=(15, 7))\n",
    "    plt.plot(data[date_col], data[close_col], label='Close Price', linewidth=2, alpha=0.7)\n",
    "    plt.plot(data[date_col], data['MA_7'], label='7-Day MA', linewidth=2, linestyle='--')\n",
    "    plt.plot(data[date_col], data['MA_30'], label='30-Day MA', linewidth=2, linestyle='--')\n",
    "    plt.plot(data[date_col], data['MA_90'], label='90-Day MA', linewidth=2, linestyle='--')\n",
    "    \n",
    "    plt.title(f'{COMPANY_SYMBOL} - Price with Moving Averages', fontsize=16, fontweight='bold')\n",
    "    plt.xlabel('Date', fontsize=12)\n",
    "    plt.ylabel('Price', fontsize=12)\n",
    "    plt.legend(loc='best', fontsize=11)\n",
    "    plt.grid(True, alpha=0.3)\n",
    "    plt.xticks(rotation=45)\n",
    "    plt.tight_layout()\n",
    "    plt.show()\n",
    "    \n",
    "    print(f\"Moving averages calculated:\")\n",
    "    print(f\"  Current Close Price: {data[close_col].iloc[-1]:.2f}\")\n",
    "    print(f\"  7-Day MA: {data['MA_7'].iloc[-1]:.2f}\")\n",
    "    print(f\"  30-Day MA: {data['MA_30'].iloc[-1]:.2f}\")\n",
    "    print(f\"  90-Day MA: {data['MA_90'].iloc[-1]:.2f}\")"
   ]
  },
  {
   "cell_type": "markdown",
   "id": "b467673b",
   "metadata": {},
   "source": [
    "## 13. Volatility Analysis\n",
    "\n",
    "Calculate rolling volatility (standard deviation of returns)"
   ]
  },
  {
   "cell_type": "code",
   "execution_count": 15,
   "id": "29f69396",
   "metadata": {},
   "outputs": [],
   "source": [
    "# Calculate volatility\n",
    "if 'Daily_Return' in data.columns and date_columns:\n",
    "    date_col = date_columns[0]\n",
    "    \n",
    "    # Rolling volatility (30-day window)\n",
    "    data['Volatility_30'] = data['Daily_Return'].rolling(window=30).std()\n",
    "    \n",
    "    # Plot\n",
    "    plt.figure(figsize=(15, 6))\n",
    "    plt.plot(data[date_col], data['Volatility_30'], linewidth=2, color='#D00000')\n",
    "    plt.fill_between(data[date_col], data['Volatility_30'], alpha=0.3, color='#D00000')\n",
    "    plt.title(f'{COMPANY_SYMBOL} - 30-Day Rolling Volatility', fontsize=16, fontweight='bold')\n",
    "    plt.xlabel('Date', fontsize=12)\n",
    "    plt.ylabel('Volatility (Std Dev of Returns)', fontsize=12)\n",
    "    plt.grid(True, alpha=0.3)\n",
    "    plt.xticks(rotation=45)\n",
    "    plt.tight_layout()\n",
    "    plt.show()\n",
    "    \n",
    "    print(f\"Volatility Statistics:\")\n",
    "    vol_data = data['Volatility_30'].dropna()\n",
    "    print(f\"  Current 30-Day Volatility: {vol_data.iloc[-1]:.4f}%\")\n",
    "    print(f\"  Average Volatility: {vol_data.mean():.4f}%\")\n",
    "    print(f\"  Max Volatility: {vol_data.max():.4f}%\")\n",
    "    print(f\"  Min Volatility: {vol_data.min():.4f}%\")"
   ]
  },
  {
   "cell_type": "markdown",
   "id": "05b8be4a",
   "metadata": {},
   "source": [
    "## 14. Correlation Heatmap\n",
    "\n",
    "Visualize correlations between numeric variables"
   ]
  },
  {
   "cell_type": "code",
   "execution_count": 16,
   "id": "97affd6f",
   "metadata": {},
   "outputs": [
    {
     "data": {
      "image/png": "[encoded data removed]",
      "text/plain": [
       "<Figure size 1200x1000 with 2 Axes>"
      ]
     },
     "metadata": {},
     "output_type": "display_data"
    }
   ],
   "source": [
    "# Correlation analysis\n",
    "numeric_cols = data.select_dtypes(include=[np.number]).columns.tolist()\n",
    "\n",
    "if len(numeric_cols) > 1:\n",
    "    # Calculate correlation matrix\n",
    "    corr_matrix = data[numeric_cols].corr()\n",
    "    \n",
    "    # Plot heatmap\n",
    "    plt.figure(figsize=(12, 10))\n",
    "    sns.heatmap(corr_matrix, annot=True, fmt='.2f', cmap='coolwarm', \n",
    "                center=0, square=True, linewidths=1, cbar_kws={\"shrink\": 0.8})\n",
    "    plt.title(f'{COMPANY_SYMBOL} - Correlation Heatmap', fontsize=16, fontweight='bold')\n",
    "    plt.tight_layout()\n",
    "    plt.show()\n",
    "else:\n",
    "    print(\"Not enough numeric columns for correlation analysis.\")"
   ]
  },
  {
   "cell_type": "markdown",
   "id": "720befa3",
   "metadata": {},
   "source": [
    "## 15. Summary Report\n",
    "\n",
    "Generate a comprehensive summary of the analysis"
   ]
  },
  {
   "cell_type": "code",
   "execution_count": 17,
   "id": "b413f185",
   "metadata": {},
   "outputs": [
    {
     "name": "stdout",
     "output_type": "stream",
     "text": [
      "================================================================================\n",
      "COMPREHENSIVE ANALYSIS REPORT: OGDC\n",
      "================================================================================\n",
      "\n",
      "📊 DATA OVERVIEW:\n",
      "  File: kse100_daily_data_sep_companies.xlsx\n",
      "  Total Records: 1,411\n",
      "  Date Range: 2020-01-01 to 2025-10-01\n",
      "  Trading Days: 1411\n",
      "\n",
      "📈 VOLUME SUMMARY:\n",
      "  Total Volume: 7,405,674,341\n",
      "  Average Daily Volume: 5,248,529\n",
      "  Highest Volume Day: 52,947,125\n",
      "\n",
      "✅ ANALYSIS COMPLETE!\n",
      "================================================================================\n"
     ]
    }
   ],
   "source": [
    "print(\"=\"*80)\n",
    "print(f\"COMPREHENSIVE ANALYSIS REPORT: {COMPANY_SYMBOL}\")\n",
    "print(\"=\"*80)\n",
    "\n",
    "print(f\"\\n📊 DATA OVERVIEW:\")\n",
    "print(f\"  File: {FILE_PATH.split(chr(92))[-1]}\")\n",
    "print(f\"  Total Records: {len(data):,}\")\n",
    "print(f\"  Date Range: {data[date_col].min().strftime('%Y-%m-%d')} to {data[date_col].max().strftime('%Y-%m-%d')}\")\n",
    "print(f\"  Trading Days: {len(data)}\")\n",
    "\n",
    "if 'Close' in ohlc_map:\n",
    "    close_col = ohlc_map['Close']\n",
    "    print(f\"\\n💰 PRICE SUMMARY:\")\n",
    "    print(f\"  Current Price: {data[close_col].iloc[-1]:.2f}\")\n",
    "    print(f\"  Starting Price: {data[close_col].iloc[0]:.2f}\")\n",
    "    print(f\"  Overall Change: {((data[close_col].iloc[-1] / data[close_col].iloc[0]) - 1) * 100:.2f}%\")\n",
    "    print(f\"  Highest Price: {data[close_col].max():.2f}\")\n",
    "    print(f\"  Lowest Price: {data[close_col].min():.2f}\")\n",
    "    print(f\"  Average Price: {data[close_col].mean():.2f}\")\n",
    "\n",
    "if volume_cols:\n",
    "    volume_col = volume_cols[0]\n",
    "    print(f\"\\n📈 VOLUME SUMMARY:\")\n",
    "    print(f\"  Total Volume: {data[volume_col].sum():,.0f}\")\n",
    "    print(f\"  Average Daily Volume: {data[volume_col].mean():,.0f}\")\n",
    "    print(f\"  Highest Volume Day: {data[volume_col].max():,.0f}\")\n",
    "\n",
    "if 'Daily_Return' in data.columns:\n",
    "    returns = data['Daily_Return'].dropna()\n",
    "    print(f\"\\n📉 RETURNS & RISK:\")\n",
    "    print(f\"  Average Daily Return: {returns.mean():.4f}%\")\n",
    "    print(f\"  Daily Volatility: {returns.std():.4f}%\")\n",
    "    print(f\"  Annualized Return: {returns.mean() * 252:.2f}%\")\n",
    "    print(f\"  Annualized Volatility: {returns.std() * np.sqrt(252):.2f}%\")\n",
    "    print(f\"  Sharpe Ratio: {returns.mean() / returns.std():.4f}\")\n",
    "    print(f\"  Best Day: {returns.max():.2f}%\")\n",
    "    print(f\"  Worst Day: {returns.min():.2f}%\")\n",
    "\n",
    "print(f\"\\n✅ ANALYSIS COMPLETE!\")\n",
    "print(\"=\"*80)"
   ]
  },
  {
   "cell_type": "markdown",
   "id": "da1a8c1c",
   "metadata": {},
   "source": [
    "## 16. Export Analysis Results (Optional)\n",
    "\n",
    "Save the processed data with calculated metrics to a CSV file"
   ]
  },
  {
   "cell_type": "code",
   "execution_count": 18,
   "id": "7642634c",
   "metadata": {},
   "outputs": [
    {
     "name": "stdout",
     "output_type": "stream",
     "text": [
      "To export results, uncomment the code above and run this cell.\n"
     ]
    }
   ],
   "source": [
    "# Uncomment to export\n",
    "# output_file = f'{COMPANY_SYMBOL}_analysis_{datetime.now().strftime(\"%Y%m%d\")}.csv'\n",
    "# data.to_csv(output_file, index=False)\n",
    "# print(f\"Analysis results exported to: {output_file}\")\n",
    "\n",
    "print(\"To export results, uncomment the code above and run this cell.\")"
   ]
  }
 ],
 "metadata": {
  "kernelspec": {
   "display_name": ".venv (3.14.0)",
   "language": "python",
   "name": "python3"
  },
  "language_info": {
   "codemirror_mode": {
    "name": "ipython",
    "version": 3
   },
   "file_extension": ".py",
   "mimetype": "text/x-python",
   "name": "python",
   "nbconvert_exporter": "python",
   "pygments_lexer": "ipython3",
   "version": "3.14.0"
  }
 },
 "nbformat": 4,
 "nbformat_minor": 5
}
