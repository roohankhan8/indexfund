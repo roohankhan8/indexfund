{
 "cells": [
  {
   "cell_type": "code",
   "execution_count": 1,
   "metadata": {},
   "outputs": [],
   "source": [
    "import requests\n",
    "from bs4 import BeautifulSoup\n",
    "import pandas as pd\n",
    "from urllib.parse import urljoin\n",
    "import tabula\n",
    "from requests.adapters import HTTPAdapter\n",
    "from urllib3.util.retry import Retry\n",
    "from selenium import webdriver\n",
    "from selenium.webdriver.common.by import By\n",
    "import time"
   ]
  },
  {
   "cell_type": "code",
   "execution_count": 4,
   "metadata": {},
   "outputs": [],
   "source": [
    "# Initialize the WebDriver (Here, we use Chrome)\n",
    "driver = webdriver.Chrome()  # Make sure ChromeDriver is in your PATH or specify its path here\n",
    "\n",
    "# Open the desired webpage\n",
    "driver.get(\"https://dps.psx.com.pk/indices\")  # Replace with the URL of the webpage\n",
    "\n",
    "# Locate the <a> tag you want to click\n",
    "# Option 1: Find by link text\n",
    "link_text = \"NBPPGI\"  # Replace with the text inside the <a> tag\n",
    "link = driver.find_element(By.LINK_TEXT, link_text)\n",
    "\n",
    "# Option 2: Find by partial link text\n",
    "# link = driver.find_element(By.PARTIAL_LINK_TEXT, \"Partial text\")\n",
    "\n",
    "# Option 3: Find by CSS selector or XPath if the link has a specific ID, class, or unique path\n",
    "# link = driver.find_element(By.CSS_SELECTOR, \"a.your-class-name\")  # Replace with actual class or ID\n",
    "# link = driver.find_element(By.XPATH, \"//a[@href='https://example.com']\")  # Replace with actual href or other attribute\n",
    "\n",
    "# Click the link\n",
    "link.click()\n",
    "\n",
    "# Wait a few seconds to see the result\n",
    "time.sleep(5)\n",
    "\n",
    "# Close the browser\n",
    "# driver.quit()"
   ]
  },
  {
   "cell_type": "code",
   "execution_count": 16,
   "metadata": {},
   "outputs": [],
   "source": [
    "# # Example: Extract specific data (e.g., from a <p> tag with class \"example\")\n",
    "# companies = driver.find_elements(By.CSS_SELECTOR, \"a.tbl__symbol\")  # Adjust the selector as needed\n",
    "# print(\"Extracted content: \")\n",
    "# for company in companies:\n",
    "#     print(company.text)"
   ]
  },
  {
   "cell_type": "code",
   "execution_count": 18,
   "metadata": {},
   "outputs": [],
   "source": [
    "# table_head = driver.find_elements(By.CSS_SELECTOR, \"table.dataTable > thead.tbl__head\")\n",
    "# table_head[0].text"
   ]
  },
  {
   "cell_type": "code",
   "execution_count": 12,
   "metadata": {},
   "outputs": [],
   "source": [
    "# table_body = driver.find_elements(By.CSS_SELECTOR, \"table.dataTable > tbody.tbl__body\")\n",
    "# table_body[0]"
   ]
  },
  {
   "cell_type": "code",
   "execution_count": 15,
   "metadata": {},
   "outputs": [
    {
     "name": "stdout",
     "output_type": "stream",
     "text": [
      "     Symbol                                   Name      LDCP   Current  \\\n",
      "0      HUBC          The Hub Power Company Limited    110.62    113.45   \n",
      "1    OGDCXD  Oil & Gas Development Company Limited    183.22    191.41   \n",
      "2     PPLXD             Pakistan Petroleum Limited    145.62    150.07   \n",
      "3     EFERT              Engro Fertilizers Limited    198.15    199.59   \n",
      "4       MTL                Millat Tractors Limited    571.71    587.40   \n",
      "5       FFC       Fauji Fertilizer Company Limited    283.03    285.18   \n",
      "6       HBL                     Habib Bank Limited    129.58    128.95   \n",
      "7   ENGROXD              Engro Corporation Limited    323.21    324.92   \n",
      "8    MEBLXD                    Meezan Bank Limited    230.47    228.67   \n",
      "9    BAHLXD                  Bank AL Habib Limited    106.34    105.71   \n",
      "10    UBLXD                    United Bank Limited    315.18    313.03   \n",
      "11    MCBXD                       MCB Bank Limited    247.38    244.98   \n",
      "12      SYS                        Systems Limited    520.80    521.57   \n",
      "13      POL             Pakistan Oilfields Limited    576.67    580.05   \n",
      "14     LUCK                   Lucky Cement Limited  1,016.11  1,001.93   \n",
      "\n",
      "    Change Change (%) IDX WTG (%) IDX Point      Volume Freefloat (M)  \\\n",
      "0     2.83      2.56%       7.08%     44.93  15,632,652           989   \n",
      "1     8.19      4.47%      10.66%    116.04  10,745,580           883   \n",
      "2     4.45      3.06%      10.16%     76.68   8,609,273         1,074   \n",
      "3     1.44      0.73%       7.65%     14.05   2,724,313           608   \n",
      "4    15.69      2.74%       3.14%     21.31   1,656,252            85   \n",
      "5     2.15      0.76%       9.71%     18.63   1,321,904           540   \n",
      "6    -0.63     -0.49%       6.47%     -8.05   1,166,098           796   \n",
      "7     1.71      0.53%       5.09%      6.81     974,831           248   \n",
      "8    -1.80     -0.78%       6.73%    -13.49     569,711           467   \n",
      "9    -0.63     -0.59%       3.73%     -5.66     331,378           560   \n",
      "10   -2.15     -0.68%       8.51%    -14.88     315,988           431   \n",
      "11   -2.40     -0.97%       5.25%    -13.08     268,697           340   \n",
      "12    0.77      0.15%       5.65%      2.12     222,562           172   \n",
      "13    3.38      0.59%       3.99%      5.91     130,382           109   \n",
      "14  -14.18     -1.40%       6.17%    -22.24      65,897            98   \n",
      "\n",
      "   Market Cap (M)  \n",
      "0         112,246  \n",
      "1         169,015  \n",
      "2         161,162  \n",
      "3         121,324  \n",
      "4          49,721  \n",
      "5         154,027  \n",
      "6         102,665  \n",
      "7          80,653  \n",
      "8         106,803  \n",
      "9          59,219  \n",
      "10        134,997  \n",
      "11         83,220  \n",
      "12         89,635  \n",
      "13         63,218  \n",
      "14         97,914  \n"
     ]
    }
   ],
   "source": [
    "import pandas as pd\n",
    "\n",
    "# Locate the table element by its class name or other identifying attributes\n",
    "table = driver.find_element(By.CSS_SELECTOR, \"table.dataTable\")\n",
    "\n",
    "# Initialize lists to store table data\n",
    "data = []\n",
    "\n",
    "# Find all rows in the table body\n",
    "rows = table.find_elements(By.TAG_NAME, \"tr\")\n",
    "\n",
    "# Loop through each row to extract cell data\n",
    "for row in rows[1:]:  # Skip the header row if necessary\n",
    "    # Find all cells in the row\n",
    "    cells = row.find_elements(By.TAG_NAME, \"td\")\n",
    "    # Extract text from each cell and add to a temporary list\n",
    "    row_data = [cell.text for cell in cells]\n",
    "    # Append the row data to the main data list\n",
    "    data.append(row_data)\n",
    "\n",
    "# Create a DataFrame from the data\n",
    "columns = [\"Symbol\", \"Name\", \"LDCP\", \"Current\", \"Change\", \"Change (%)\", \"IDX WTG (%)\", \"IDX Point\", \"Volume\", \"Freefloat (M)\", \"Market Cap (M)\"]  # Adjust as needed\n",
    "df = pd.DataFrame(data, columns=columns)\n",
    "\n",
    "# Print or save the DataFrame\n",
    "print(df)\n",
    "# Optionally, save to a CSV file\n",
    "# df.to_csv(\"nbppgi_data.csv\", index=False)\n",
    "\n",
    "# Close the browser\n",
    "# driver.quit()"
   ]
  },
  {
   "cell_type": "code",
   "execution_count": null,
   "metadata": {},
   "outputs": [],
   "source": []
  }
 ],
 "metadata": {
  "kernelspec": {
   "display_name": "env",
   "language": "python",
   "name": "python3"
  },
  "language_info": {
   "codemirror_mode": {
    "name": "ipython",
    "version": 3
   },
   "file_extension": ".py",
   "mimetype": "text/x-python",
   "name": "python",
   "nbconvert_exporter": "python",
   "pygments_lexer": "ipython3",
   "version": "3.12.0"
  }
 },
 "nbformat": 4,
 "nbformat_minor": 2
}
