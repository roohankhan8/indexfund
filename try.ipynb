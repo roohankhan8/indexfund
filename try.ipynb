{
 "cells": [
  {
   "cell_type": "code",
   "execution_count": 3,
   "metadata": {},
   "outputs": [],
   "source": [
    "# import requests\n",
    "# from bs4 import BeautifulSoup\n",
    "# from urllib.parse import urljoin\n",
    "# import tabula\n",
    "# from requests.adapters import HTTPAdapter\n",
    "# from urllib3.util.retry import Retry\n",
    "from selenium import webdriver\n",
    "from selenium.webdriver.common.by import By\n",
    "import time\n",
    "import os\n",
    "import pandas as pd\n",
    "from datetime import datetime"
   ]
  },
  {
   "cell_type": "code",
   "execution_count": 4,
   "metadata": {},
   "outputs": [],
   "source": [
    "# Initialize the WebDriver (Here, we use Chrome)\n",
    "driver = webdriver.Chrome()  # Make sure ChromeDriver is in your PATH or specify its path here\n",
    "\n",
    "# Open the desired webpage\n",
    "driver.get(\"https://dps.psx.com.pk/indices\")  # Replace with the URL of the webpage\n",
    "\n",
    "# Locate the <a> tag you want to click\n",
    "# Option 1: Find by link text\n",
    "link_text = \"NBPPGI\"  # Replace with the text inside the <a> tag\n",
    "link = driver.find_element(By.LINK_TEXT, link_text)\n",
    "\n",
    "# Option 2: Find by partial link text\n",
    "# link = driver.find_element(By.PARTIAL_LINK_TEXT, \"Partial text\")\n",
    "\n",
    "# Option 3: Find by CSS selector or XPath if the link has a specific ID, class, or unique path\n",
    "# link = driver.find_element(By.CSS_SELECTOR, \"a.your-class-name\")  # Replace with actual class or ID\n",
    "# link = driver.find_element(By.XPATH, \"//a[@href='https://example.com']\")  # Replace with actual href or other attribute\n",
    "\n",
    "# Click the link\n",
    "link.click()\n",
    "\n",
    "# Wait a few seconds to see the result\n",
    "time.sleep(5)\n",
    "\n",
    "# Close the browser\n",
    "# driver.quit()"
   ]
  },
  {
   "cell_type": "code",
   "execution_count": 5,
   "metadata": {},
   "outputs": [],
   "source": [
    "# # Example: Extract specific data (e.g., from a <p> tag with class \"example\")\n",
    "# companies = driver.find_elements(By.CSS_SELECTOR, \"a.tbl__symbol\")  # Adjust the selector as needed\n",
    "# print(\"Extracted content: \")\n",
    "# for company in companies:\n",
    "#     print(company.text)"
   ]
  },
  {
   "cell_type": "code",
   "execution_count": 6,
   "metadata": {},
   "outputs": [],
   "source": [
    "# table_head = driver.find_elements(By.CSS_SELECTOR, \"table.dataTable > thead.tbl__head\")\n",
    "# table_head[0].text"
   ]
  },
  {
   "cell_type": "code",
   "execution_count": 7,
   "metadata": {},
   "outputs": [],
   "source": [
    "# table_body = driver.find_elements(By.CSS_SELECTOR, \"table.dataTable > tbody.tbl__body\")\n",
    "# table_body[0]"
   ]
  },
  {
   "cell_type": "code",
   "execution_count": 8,
   "metadata": {},
   "outputs": [
    {
     "name": "stdout",
     "output_type": "stream",
     "text": [
      "     Symbol                                   Name    LDCP   Current Change  \\\n",
      "0    OGDCXD  Oil & Gas Development Company Limited  194.69    190.10  -4.59   \n",
      "1      HUBC          The Hub Power Company Limited  110.49    109.57  -0.92   \n",
      "2     PPLXD             Pakistan Petroleum Limited  151.17    150.06  -1.11   \n",
      "3   ENGROXD              Engro Corporation Limited  314.99    319.93   4.94   \n",
      "4    MEBLXD                    Meezan Bank Limited  227.40    224.52  -2.88   \n",
      "5       HBL                     Habib Bank Limited  125.49    125.35  -0.14   \n",
      "6     EFERT              Engro Fertilizers Limited  199.30    199.60   0.30   \n",
      "7       FFC       Fauji Fertilizer Company Limited  282.74    279.48  -3.26   \n",
      "8     UBLXD                    United Bank Limited  314.25    315.70   1.45   \n",
      "9      LUCK                   Lucky Cement Limited  989.71  1,018.35  28.64   \n",
      "10     BAHL                  Bank AL Habib Limited  104.90    103.31  -1.59   \n",
      "11      MTL                Millat Tractors Limited  584.36    574.82  -9.54   \n",
      "12      POL             Pakistan Oilfields Limited  571.33    579.72   8.39   \n",
      "13    MCBXD                       MCB Bank Limited  244.61    242.43  -2.18   \n",
      "14      SYS                        Systems Limited  518.91    517.30  -1.61   \n",
      "\n",
      "   Change (%) IDX WTG (%) IDX Point     Volume Freefloat (M) Market Cap (M)  \n",
      "0      -2.36%      10.69%    -65.03  6,479,629           883        167,858  \n",
      "1      -0.83%       6.90%    -14.60  4,947,373           989        108,407  \n",
      "2      -0.73%      10.26%    -19.13  3,662,335         1,074        161,151  \n",
      "3       1.57%       5.06%     19.67  2,042,978           248         79,414  \n",
      "4      -1.27%       6.68%    -21.58  1,746,993           467        104,865  \n",
      "5      -0.11%       6.35%     -1.79  1,150,637           796         99,799  \n",
      "6       0.15%       7.73%      2.93    917,858           608        121,330  \n",
      "7      -1.15%       9.61%    -28.25    881,551           540        150,948  \n",
      "8       0.46%       8.67%     10.03    413,367           431        136,149  \n",
      "9       2.89%       6.34%     44.91    326,372            98         99,518  \n",
      "10     -1.52%       3.69%    -14.29    263,918           560         57,875  \n",
      "11     -1.63%       3.10%    -12.96    197,131            85         48,656  \n",
      "12      1.47%       4.02%     14.67    158,027           109         63,182  \n",
      "13     -0.89%       5.24%    -11.88    116,281           340         82,354  \n",
      "14     -0.31%       5.66%     -4.44    103,726           172         88,901  \n"
     ]
    }
   ],
   "source": [
    "# Locate the table element by its class name or other identifying attributes\n",
    "table = driver.find_element(By.CSS_SELECTOR, \"table.dataTable\")\n",
    "\n",
    "# Initialize lists to store table data\n",
    "data = []\n",
    "\n",
    "# Find all rows in the table body\n",
    "rows = table.find_elements(By.TAG_NAME, \"tr\")\n",
    "\n",
    "# Loop through each row to extract cell data\n",
    "for row in rows[1:]:  # Skip the header row if necessary\n",
    "    # Find all cells in the row\n",
    "    cells = row.find_elements(By.TAG_NAME, \"td\")\n",
    "    # Extract text from each cell and add to a temporary list\n",
    "    row_data = [cell.text for cell in cells]\n",
    "    # Append the row data to the main data list\n",
    "    data.append(row_data)\n",
    "\n",
    "# Create a DataFrame from the data\n",
    "columns = [\"Symbol\", \"Name\", \"LDCP\", \"Current\", \"Change\", \"Change (%)\", \"IDX WTG (%)\", \"IDX Point\", \"Volume\", \"Freefloat (M)\", \"Market Cap (M)\"]  # Adjust as needed\n",
    "df = pd.DataFrame(data, columns=columns)\n",
    "\n",
    "# Print or save the DataFrame\n",
    "print(df)\n",
    "\n",
    "# Optionally, save to a CSV file\n",
    "# df.to_csv(\"nbppgi_data.csv\", index=False)\n",
    "\n",
    "# Close the browser\n",
    "# driver.quit()"
   ]
  },
  {
   "cell_type": "code",
   "execution_count": 9,
   "metadata": {},
   "outputs": [
    {
     "name": "stdout",
     "output_type": "stream",
     "text": [
      "Data saved to daily_nbppgi_data.csv\n"
     ]
    }
   ],
   "source": [
    "# Add a date column to indicate the day’s data\n",
    "df[\"Date\"] = datetime.now().strftime(\"%Y-%m-%d\")\n",
    "\n",
    "# Specify the CSV file name\n",
    "csv_file = \"daily_nbppgi_data.csv\"\n",
    "\n",
    "# Check if the file exists. If it does, append without headers. If not, create with headers.\n",
    "if os.path.exists(csv_file):\n",
    "    df.to_csv(csv_file, mode=\"a\", index=False, header=False)\n",
    "else:\n",
    "    df.to_csv(csv_file, mode=\"w\", index=False, header=True)\n",
    "\n",
    "print(f\"Data saved to {csv_file}\")"
   ]
  },
  {
   "cell_type": "markdown",
   "metadata": {},
   "source": [
    "https://1drv.ms/x/c/a492b86365c32764/EcEhMtf_JwpKrNuViJ16WNEBxa3ln-64tcQ_mu2T_B-ThA?e=Ep7Vbw"
   ]
  },
  {
   "cell_type": "markdown",
   "metadata": {},
   "source": []
  }
 ],
 "metadata": {
  "kernelspec": {
   "display_name": "env",
   "language": "python",
   "name": "python3"
  },
  "language_info": {
   "codemirror_mode": {
    "name": "ipython",
    "version": 3
   },
   "file_extension": ".py",
   "mimetype": "text/x-python",
   "name": "python",
   "nbconvert_exporter": "python",
   "pygments_lexer": "ipython3",
   "version": "3.12.0"
  }
 },
 "nbformat": 4,
 "nbformat_minor": 2
}
