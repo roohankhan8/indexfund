{
 "cells": [
  {
   "cell_type": "code",
   "execution_count": 1,
   "metadata": {},
   "outputs": [],
   "source": [
    "# import requests\n",
    "# from bs4 import BeautifulSoup\n",
    "# from urllib.parse import urljoin\n",
    "# import tabula\n",
    "# from requests.adapters import HTTPAdapter\n",
    "# from urllib3.util.retry import Retry\n",
    "from selenium import webdriver\n",
    "from selenium.webdriver.common.by import By\n",
    "import time\n",
    "import os\n",
    "import pandas as pd\n",
    "from datetime import datetime"
   ]
  },
  {
   "cell_type": "code",
   "execution_count": 2,
   "metadata": {},
   "outputs": [],
   "source": [
    "# Initialize the WebDriver (Here, we use Chrome)\n",
    "driver = webdriver.Chrome()  # Make sure ChromeDriver is in your PATH or specify its path here\n",
    "\n",
    "# Open the desired webpage\n",
    "driver.get(\"https://dps.psx.com.pk/indices\")  # Replace with the URL of the webpage\n",
    "\n",
    "# Locate the <a> tag you want to click\n",
    "# Option 1: Find by link text\n",
    "link_text = \"NBPPGI\"  # Replace with the text inside the <a> tag\n",
    "link = driver.find_element(By.LINK_TEXT, link_text)\n",
    "\n",
    "# Option 2: Find by partial link text\n",
    "# link = driver.find_element(By.PARTIAL_LINK_TEXT, \"Partial text\")\n",
    "\n",
    "# Option 3: Find by CSS selector or XPath if the link has a specific ID, class, or unique path\n",
    "# link = driver.find_element(By.CSS_SELECTOR, \"a.your-class-name\")  # Replace with actual class or ID\n",
    "# link = driver.find_element(By.XPATH, \"//a[@href='https://example.com']\")  # Replace with actual href or other attribute\n",
    "\n",
    "# Click the link\n",
    "link.click()\n",
    "\n",
    "# Wait a few seconds to see the result\n",
    "time.sleep(5)\n",
    "\n",
    "# Close the browser\n",
    "# driver.quit()"
   ]
  },
  {
   "cell_type": "code",
   "execution_count": 3,
   "metadata": {},
   "outputs": [],
   "source": [
    "# # Example: Extract specific data (e.g., from a <p> tag with class \"example\")\n",
    "# companies = driver.find_elements(By.CSS_SELECTOR, \"a.tbl__symbol\")  # Adjust the selector as needed\n",
    "# print(\"Extracted content: \")\n",
    "# for company in companies:\n",
    "#     print(company.text)"
   ]
  },
  {
   "cell_type": "code",
   "execution_count": 4,
   "metadata": {},
   "outputs": [],
   "source": [
    "# table_head = driver.find_elements(By.CSS_SELECTOR, \"table.dataTable > thead.tbl__head\")\n",
    "# table_head[0].text"
   ]
  },
  {
   "cell_type": "code",
   "execution_count": 5,
   "metadata": {},
   "outputs": [],
   "source": [
    "# table_body = driver.find_elements(By.CSS_SELECTOR, \"table.dataTable > tbody.tbl__body\")\n",
    "# table_body[0]"
   ]
  },
  {
   "cell_type": "code",
   "execution_count": 6,
   "metadata": {},
   "outputs": [
    {
     "name": "stdout",
     "output_type": "stream",
     "text": [
      "     Symbol                                   Name      LDCP Current Change  \\\n",
      "0    OGDCXD  Oil & Gas Development Company Limited    191.41  197.64   6.23   \n",
      "1     PPLXD             Pakistan Petroleum Limited    150.07  154.16   4.09   \n",
      "2      HUBC          The Hub Power Company Limited    113.45  110.63  -2.82   \n",
      "3       FFC       Fauji Fertilizer Company Limited    285.18  281.97  -3.21   \n",
      "4     EFERT              Engro Fertilizers Limited    199.59  199.68   0.09   \n",
      "5      BAHL                  Bank AL Habib Limited    105.71  105.39  -0.32   \n",
      "6       HBL                     Habib Bank Limited    128.95  127.44  -1.51   \n",
      "7   ENGROXD              Engro Corporation Limited    324.92  321.63  -3.29   \n",
      "8       MTL                Millat Tractors Limited    587.40  594.91   7.51   \n",
      "9    MEBLXD                    Meezan Bank Limited    228.67  228.09  -0.58   \n",
      "10    UBLXD                    United Bank Limited    313.03  313.42   0.39   \n",
      "11    MCBXD                       MCB Bank Limited    244.98  244.70  -0.28   \n",
      "12      SYS                        Systems Limited    521.57  526.76   5.19   \n",
      "13     LUCK                   Lucky Cement Limited  1,001.93  993.73  -8.20   \n",
      "14      POL             Pakistan Oilfields Limited    580.05  578.01  -2.04   \n",
      "\n",
      "   Change (%) IDX WTG (%) IDX Point      Volume Freefloat (M) Market Cap (M)  \n",
      "0       3.26%      10.98%     88.27  10,975,597           883        174,516  \n",
      "1       2.73%      10.42%     70.48  10,241,549         1,074        165,554  \n",
      "2      -2.49%       6.89%    -44.77   9,391,683           989        109,456  \n",
      "3      -1.13%       9.58%    -27.82   2,022,329           540        152,293  \n",
      "4       0.05%       7.64%      0.88   1,279,786           608        121,378  \n",
      "5      -0.30%       3.71%     -2.88   1,137,978           560         59,040  \n",
      "6      -1.17%       6.38%    -19.29   1,128,150           796        101,463  \n",
      "7      -1.01%       5.02%    -13.10     526,436           248         79,836  \n",
      "8       1.28%       3.17%     10.20     509,202            85         50,357  \n",
      "9      -0.25%       6.70%     -4.35     382,241           467        106,532  \n",
      "10      0.13%       8.50%      2.70     373,913           431        135,165  \n",
      "11     -0.11%       5.23%     -1.53     211,746           340         83,125  \n",
      "12      1.00%       5.70%     14.31     203,433           172         90,527  \n",
      "13     -0.82%       6.11%    -12.86     170,978            98         97,112  \n",
      "14     -0.35%       3.96%     -3.57     142,472           109         62,996  \n"
     ]
    }
   ],
   "source": [
    "# Locate the table element by its class name or other identifying attributes\n",
    "table = driver.find_element(By.CSS_SELECTOR, \"table.dataTable\")\n",
    "\n",
    "# Initialize lists to store table data\n",
    "data = []\n",
    "\n",
    "# Find all rows in the table body\n",
    "rows = table.find_elements(By.TAG_NAME, \"tr\")\n",
    "\n",
    "# Loop through each row to extract cell data\n",
    "for row in rows[1:]:  # Skip the header row if necessary\n",
    "    # Find all cells in the row\n",
    "    cells = row.find_elements(By.TAG_NAME, \"td\")\n",
    "    # Extract text from each cell and add to a temporary list\n",
    "    row_data = [cell.text for cell in cells]\n",
    "    # Append the row data to the main data list\n",
    "    data.append(row_data)\n",
    "\n",
    "# Create a DataFrame from the data\n",
    "columns = [\"Symbol\", \"Name\", \"LDCP\", \"Current\", \"Change\", \"Change (%)\", \"IDX WTG (%)\", \"IDX Point\", \"Volume\", \"Freefloat (M)\", \"Market Cap (M)\"]  # Adjust as needed\n",
    "df = pd.DataFrame(data, columns=columns)\n",
    "\n",
    "# Print or save the DataFrame\n",
    "print(df)\n",
    "\n",
    "# Optionally, save to a CSV file\n",
    "# df.to_csv(\"nbppgi_data.csv\", index=False)\n",
    "\n",
    "# Close the browser\n",
    "# driver.quit()"
   ]
  },
  {
   "cell_type": "code",
   "execution_count": 9,
   "metadata": {},
   "outputs": [
    {
     "name": "stdout",
     "output_type": "stream",
     "text": [
      "Data saved to daily_nbppgi_data.csv\n"
     ]
    }
   ],
   "source": [
    "# # Add a date column to indicate the day’s data\n",
    "# df[\"Date\"] = datetime.now().strftime(\"%Y-%m-%d\")\n",
    "\n",
    "# # Specify the CSV file name\n",
    "# csv_file = \"daily_nbppgi_data.csv\"\n",
    "\n",
    "# # Check if the file exists. If it does, append without headers. If not, create with headers.\n",
    "# if os.path.exists(csv_file):\n",
    "#     df.to_csv(csv_file, mode=\"a\", index=False, header=False)\n",
    "# else:\n",
    "#     df.to_csv(csv_file, mode=\"w\", index=False, header=True)\n",
    "\n",
    "# print(f\"Data saved to {csv_file}\")"
   ]
  }
 ],
 "metadata": {
  "kernelspec": {
   "display_name": "env",
   "language": "python",
   "name": "python3"
  },
  "language_info": {
   "codemirror_mode": {
    "name": "ipython",
    "version": 3
   },
   "file_extension": ".py",
   "mimetype": "text/x-python",
   "name": "python",
   "nbconvert_exporter": "python",
   "pygments_lexer": "ipython3",
   "version": "3.12.0"
  }
 },
 "nbformat": 4,
 "nbformat_minor": 2
}
